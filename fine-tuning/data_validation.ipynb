{
  "nbformat": 4,
  "nbformat_minor": 0,
  "metadata": {
    "colab": {
      "provenance": []
    },
    "kernelspec": {
      "name": "python3",
      "display_name": "Python 3"
    },
    "language_info": {
      "name": "python"
    }
  },
  "cells": [
    {
      "cell_type": "markdown",
      "source": [
        "# Data Format Validation\n",
        "\n",
        "This notebook serves as a tool to preprocess and analyze the chat dataset used for fine-tuning a chat model. It checks for format errors, provides basic statistics, and estimates token counts for fine-tuning costs."
      ],
      "metadata": {
        "id": "Q3UdeXF34z3P"
      }
    },
    {
      "cell_type": "code",
      "source": [
        "import json\n",
        "!pip install tiktoken # for token counting\n",
        "import numpy as np\n",
        "from collections import defaultdict\n",
        "import tiktoken"
      ],
      "metadata": {
        "colab": {
          "base_uri": "https://localhost:8080/"
        },
        "id": "hxCx-2qn5WtO",
        "outputId": "14da32cc-3c8b-45cd-e31c-f4606831326a"
      },
      "execution_count": 29,
      "outputs": [
        {
          "output_type": "stream",
          "name": "stdout",
          "text": [
            "Requirement already satisfied: tiktoken in /usr/local/lib/python3.10/dist-packages (0.6.0)\n",
            "Requirement already satisfied: regex>=2022.1.18 in /usr/local/lib/python3.10/dist-packages (from tiktoken) (2023.12.25)\n",
            "Requirement already satisfied: requests>=2.26.0 in /usr/local/lib/python3.10/dist-packages (from tiktoken) (2.31.0)\n",
            "Requirement already satisfied: charset-normalizer<4,>=2 in /usr/local/lib/python3.10/dist-packages (from requests>=2.26.0->tiktoken) (3.3.2)\n",
            "Requirement already satisfied: idna<4,>=2.5 in /usr/local/lib/python3.10/dist-packages (from requests>=2.26.0->tiktoken) (3.6)\n",
            "Requirement already satisfied: urllib3<3,>=1.21.1 in /usr/local/lib/python3.10/dist-packages (from requests>=2.26.0->tiktoken) (2.0.7)\n",
            "Requirement already satisfied: certifi>=2017.4.17 in /usr/local/lib/python3.10/dist-packages (from requests>=2.26.0->tiktoken) (2024.2.2)\n"
          ]
        }
      ]
    },
    {
      "cell_type": "markdown",
      "source": [
        "## Data loading\n",
        "Loading dataset from JSONL file"
      ],
      "metadata": {
        "id": "dnl_jf0V6XTP"
      }
    },
    {
      "cell_type": "code",
      "source": [
        "data = \"data.jsonl\"\n",
        "\n",
        "# load dataset\n",
        "with open(data, 'r', encoding='utf-8') as f:\n",
        "  dataset = [json.loads(line) for line in f]\n",
        "\n",
        "# initial dataset stats\n",
        "print(\"Num examples:\", len(dataset))\n",
        "print(\"first example:\")\n",
        "for message in dataset[0][\"messages\"]:\n",
        "  print(message)"
      ],
      "metadata": {
        "colab": {
          "base_uri": "https://localhost:8080/"
        },
        "id": "lQiRQI7i5pZN",
        "outputId": "6539f6c4-5f85-47f0-ff9c-193b2e8a072c"
      },
      "execution_count": 30,
      "outputs": [
        {
          "output_type": "stream",
          "name": "stdout",
          "text": [
            "Num examples: 100\n",
            "first example:\n",
            "{'role': 'system', 'content': \"You're KSFE bot, a responsible WhatsApp bot AI to serve customers of Kerala State Financial Enterprises Ltd. You should answer users' questions in a polite and effective way.\"}\n",
            "{'role': 'user', 'content': 'What services does KSFE provide?'}\n",
            "{'role': 'assistant', 'content': 'KSFE offers various financial services, including chitty, savings accounts, fixed deposits, and gold loan services.'}\n"
          ]
        }
      ]
    },
    {
      "cell_type": "markdown",
      "source": [
        "## Format validation\n",
        "We can perform a variety of error checks to validate that each conversation in the dataset adheres to the format expected by the fine-tuning API. Errors are categorized based on their nature for easier debugging.\n",
        "\n",
        "1. **Data Type Check**: Checks whether each entry in the dataset is a dictionary (`dict`). Error type: `data_type`.\\n\n",
        "2. **Presence of Message List**: Checks if a `messages` list is present in each entry. Error type: `missing_messages_list`.\\n\n",
        "3. **Message Keys Check**: Validates that each message in the `messages` list contains the keys `role` and `content`. Error type: `message_missing_key`.\\n\n",
        "4. **Unrecognized Keys in Messages**: Logs if a message has keys other than `role`, `content`, and `name`. Error type: `message_unrecognized_key`.\\n\",\n",
        "5. **Role Validation**: Ensures the `role` is one of \\\"system\\\", \\\"user\\\", or \\\"assistant\\\". Error type: `unrecognized_role`.\\n\n",
        "6. **Content Validation**: Verifies that `content` has textual data and is a string. Error type: `missing_content`.\\n\n",
        "7. **Assistant Message Presence**: Checks that each conversation has at least one message from the assistant. Error type: `example_missing_assistant_message`.\n",
        "\n",
        "The code below performs these checks, and outputs counts for each type of error found are printed. This is useful for debugging and ensuring the dataset is ready for the next steps.\\n\""
      ],
      "metadata": {
        "id": "OZFSi3BH7cOe"
      }
    },
    {
      "cell_type": "code",
      "source": [
        "# format error checks\n",
        "format_errors = defaultdict(int)\n",
        "\n",
        "for ex in dataset:\n",
        "  if not isinstance(ex, dict):\n",
        "    format_errors[\"data_type\"] == 1\n",
        "    continue\n",
        "\n",
        "  messages = ex.get(\"messages\", None)\n",
        "  if not messages:\n",
        "    format_errors[\"missing_messages_list\"] == 1\n",
        "    continue\n",
        "\n",
        "  for message in messages:\n",
        "    if \"role\" not in message or \"content\" not in message:\n",
        "      format_errors[\"message_missing_key\"] == 1\n",
        "\n",
        "    if any(k not in(\"role\", \"content\", \"name\", \"function_call\") for k in message):\n",
        "      format_errors[\"message_unrecognized_key\"] == 1\n",
        "\n",
        "    if message.get(\"role\", None) not in (\"system\", \"user\", \"assistant\", \"function\"):\n",
        "      format_errors[\"unrecognized_role\"] == 1\n",
        "\n",
        "    content = message.get(\"content\", None)\n",
        "    function_call = message.get(\"function_call\", None)\n",
        "\n",
        "    if (not content and not function_call) or not isinstance(content, str):\n",
        "      format_errors[:\"missing_content\"] == 1\n",
        "\n",
        "if format_errors:\n",
        "  print(\"Format errors:\")\n",
        "  for k, v in format_errors.items():\n",
        "    print(f\"{k}: {v}\")\n",
        "else:\n",
        "  print(\"No errors found\")"
      ],
      "metadata": {
        "colab": {
          "base_uri": "https://localhost:8080/"
        },
        "id": "J6VYrENR9F-3",
        "outputId": "eead6d5f-c2fe-4e78-8324-e302c92d0dff"
      },
      "execution_count": 31,
      "outputs": [
        {
          "output_type": "stream",
          "name": "stdout",
          "text": [
            "No errors found\n"
          ]
        }
      ]
    },
    {
      "cell_type": "markdown",
      "source": [
        "## Token Counting Utilities\n",
        "Define utilities to be used in the rest of the notebook"
      ],
      "metadata": {
        "id": "r-zhU_zI_wh3"
      }
    },
    {
      "cell_type": "code",
      "source": [
        "encoding = tiktoken.get_encoding(\"cl100k_base\")\n",
        "\n",
        "# not exact!\n",
        "# simplified from https://github.com/openai/openai-cookbook/blob/main/examples/How_to_count_tokens_with_tiktoken.ipynb\n",
        "def num_tokens_from_messages(messages, tokens_per_message=3, tokens_per_name=1):\n",
        "    num_tokens = 0\n",
        "    for message in messages:\n",
        "        num_tokens += tokens_per_message\n",
        "        for key, value in message.items():\n",
        "            num_tokens += len(encoding.encode(value))\n",
        "            if key == \"name\":\n",
        "                num_tokens += tokens_per_name\n",
        "    num_tokens += 3\n",
        "    return num_tokens\n",
        "\n",
        "def num_assistant_tokens_from_messages(messages):\n",
        "    num_tokens = 0\n",
        "    for message in messages:\n",
        "        if message[\"role\"] == \"assistant\":\n",
        "            num_tokens += len(encoding.encode(message[\"content\"]))\n",
        "    return num_tokens\n",
        "\n",
        "def print_distribution(values, name):\n",
        "    print(f\"\\n#### Distribution of {name}:\")\n",
        "    print(f\"min / max: {min(values)}, {max(values)}\")\n",
        "    print(f\"mean / median: {np.mean(values)}, {np.median(values)}\")\n",
        "    print(f\"p5 / p95: {np.quantile(values, 0.1)}, {np.quantile(values, 0.9)}\")"
      ],
      "metadata": {
        "id": "yEwu4wUI-ooV"
      },
      "execution_count": 32,
      "outputs": []
    },
    {
      "cell_type": "markdown",
      "source": [
        "## Data Warnings and Token Counts\n",
        "With some lightweight analysis we can identify potential issues in the dataset, like missing messages, and provide statistical insights into message and token counts.\n",
        "\n",
        "1. **Missing System/User Messages**: Counts the number of conversations missing a \\\"system\\\" or \\\"user\\\" message. Such messages are critical for defining the assistant's behavior and initiating the conversation.\n",
        "2. **Number of Messages Per Example**: Summarizes the distribution of the number of messages in each conversation, providing insight into dialogue complexity.\n",
        "3. **Total Tokens Per Example**: Calculates and summarizes the distribution of the total number of tokens in each conversation. Important for understanding fine-tuning costs.\n",
        "4. **Tokens in Assistant's Messages**: Calculates the number of tokens in the assistant's messages per conversation and summarizes this distribution. Useful for understanding the assistant's verbosity.\n",
        "5. **Token Limit Warnings**: Checks if any examples exceed the maximum token limit (4096 tokens), as such examples will be truncated during fine-tuning, potentially resulting in data loss."
      ],
      "metadata": {
        "id": "iIKcK2oOAuIP"
      }
    },
    {
      "cell_type": "code",
      "source": [
        "# Warnings and tokens counts\n",
        "n_missing_system = 0\n",
        "n_missing_user = 0\n",
        "n_messages = []\n",
        "convo_lens = []\n",
        "assistant_message_lens = []\n",
        "\n",
        "for ex in dataset:\n",
        "    messages = ex[\"messages\"]\n",
        "    if not any(message[\"role\"] == \"system\" for message in messages):\n",
        "        n_missing_system += 1\n",
        "    if not any(message[\"role\"] == \"user\" for message in messages):\n",
        "        n_missing_user += 1\n",
        "    n_messages.append(len(messages))\n",
        "    convo_lens.append(num_tokens_from_messages(messages))\n",
        "    assistant_message_lens.append(num_assistant_tokens_from_messages(messages))\n",
        "\n",
        "print(\"Num examples missing system message:\", n_missing_system)\n",
        "print(\"Num examples missing user message:\", n_missing_user)\n",
        "print_distribution(n_messages, \"num_messages_per_example\")\n",
        "print_distribution(convo_lens, \"num_total_tokens_per_example\")\n",
        "print_distribution(assistant_message_lens, \"num_assistant_tokens_per_example\")\n",
        "n_too_long = sum(l > 4096 for l in convo_lens)\n",
        "print(f\"\\n{n_too_long} examples may be over the 4096 token limit, they will be truncated during fine-tuning\")"
      ],
      "metadata": {
        "colab": {
          "base_uri": "https://localhost:8080/"
        },
        "id": "K5ZeX7EzBF12",
        "outputId": "c8a09519-6746-4d3f-a5ec-5271b5b46ddf"
      },
      "execution_count": 33,
      "outputs": [
        {
          "output_type": "stream",
          "name": "stdout",
          "text": [
            "Num examples missing system message: 0\n",
            "Num examples missing user message: 0\n",
            "\n",
            "#### Distribution of num_messages_per_example:\n",
            "min / max: 3, 3\n",
            "mean / median: 3.0, 3.0\n",
            "p5 / p95: 3.0, 3.0\n",
            "\n",
            "#### Distribution of num_total_tokens_per_example:\n",
            "min / max: 62, 237\n",
            "mean / median: 119.22, 101.0\n",
            "p5 / p95: 78.9, 177.10000000000008\n",
            "\n",
            "#### Distribution of num_assistant_tokens_per_example:\n",
            "min / max: 2, 181\n",
            "mean / median: 48.14, 32.5\n",
            "p5 / p95: 14.0, 108.10000000000001\n",
            "\n",
            "0 examples may be over the 4096 token limit, they will be truncated during fine-tuning\n"
          ]
        }
      ]
    },
    {
      "cell_type": "markdown",
      "source": [
        "## Cost Estimation\n",
        "    \n",
        "In this final section we estimate the total number of tokens that will be used for fine-tuning which allows us to approximate the cost. It is worth noting that the duration of the fine-tuning jobs will also increase with the token count."
      ],
      "metadata": {
        "id": "nUk-JbbxC7wP"
      }
    },
    {
      "cell_type": "code",
      "source": [
        "# Pricing and default n_epochs estimate\n",
        "MAX_TOKENS_PER_EXAMPLE = 4096\n",
        "\n",
        "TARGET_EPOCHS = 3\n",
        "MIN_TARGET_EXAMPLES = 100\n",
        "MAX_TARGET_EXAMPLES = 25000\n",
        "MIN_DEFAULT_EPOCHS = 1\n",
        "MAX_DEFAULT_EPOCHS = 25\n",
        "\n",
        "n_epochs = TARGET_EPOCHS\n",
        "n_train_examples = len(dataset)\n",
        "if n_train_examples * TARGET_EPOCHS < MIN_TARGET_EXAMPLES:\n",
        "    n_epochs = min(MAX_DEFAULT_EPOCHS, MIN_TARGET_EXAMPLES // n_train_examples)\n",
        "elif n_train_examples * TARGET_EPOCHS > MAX_TARGET_EXAMPLES:\n",
        "    n_epochs = max(MIN_DEFAULT_EPOCHS, MAX_TARGET_EXAMPLES // n_train_examples)\n",
        "\n",
        "n_billing_tokens_in_dataset = sum(min(MAX_TOKENS_PER_EXAMPLE, length) for length in convo_lens)\n",
        "print(f\"Dataset has ~{n_billing_tokens_in_dataset} tokens that will be charged for during training\")\n",
        "print(f\"By default, you'll train for {n_epochs} epochs on this dataset\")\n",
        "print(f\"By default, you'll be charged for ~{n_epochs * n_billing_tokens_in_dataset} tokens\")"
      ],
      "metadata": {
        "colab": {
          "base_uri": "https://localhost:8080/"
        },
        "id": "jxNfoh2bDVvQ",
        "outputId": "5285bf81-d961-491a-c47c-5e6b2515c19f"
      },
      "execution_count": 34,
      "outputs": [
        {
          "output_type": "stream",
          "name": "stdout",
          "text": [
            "Dataset has ~11922 tokens that will be charged for during training\n",
            "By default, you'll train for 3 epochs on this dataset\n",
            "By default, you'll be charged for ~35766 tokens\n"
          ]
        }
      ]
    }
  ]
}